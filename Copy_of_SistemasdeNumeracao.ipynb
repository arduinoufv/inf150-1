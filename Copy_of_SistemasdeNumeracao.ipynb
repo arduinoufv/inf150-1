{
  "nbformat": 4,
  "nbformat_minor": 0,
  "metadata": {
    "colab": {
      "name": "Copy of SistemasdeNumeracao.ipynb",
      "provenance": [],
      "collapsed_sections": [],
      "include_colab_link": true
    },
    "kernelspec": {
      "name": "python3",
      "display_name": "Python 3"
    }
  },
  "cells": [
    {
      "cell_type": "markdown",
      "metadata": {
        "id": "view-in-github",
        "colab_type": "text"
      },
      "source": [
        "<a href=\"https://colab.research.google.com/github/hicarop4/inf150/blob/master/Copy_of_SistemasdeNumeracao.ipynb\" target=\"_parent\"><img src=\"https://colab.research.google.com/assets/colab-badge.svg\" alt=\"Open In Colab\"/></a>"
      ]
    },
    {
      "cell_type": "markdown",
      "metadata": {
        "id": "ee1-DAfeZIjk",
        "colab_type": "text"
      },
      "source": [
        "# **Sistemas de Numeração**\n",
        "A primeira coisa que você deve fazer é gravar uma cópia local para você editar e fazer o seu laboratório. Ir em Arquivo (ou File) e Salvar uma cópia no Drive (Save a copy in Drive)\n",
        "\n",
        "Este laboratório tem exercícios com codificação binária e hexadecimal, representação de caracteres com código ASCII, conversão de base binário, decimal, hexadecimal. Além da introdução na aritmética binária sem sinal e com sinal em complemento de 2. \n",
        "\n",
        "Algumas tarefas irão usar códigos em linguagem C/C++ para correção. Mas não é necessário conhecimentos de programação pois as tarefas são bem simples. A proposta que os exemplos de código sejam utéis para introdução a programação em C/C++ e estabelecer ligações entre a linguagem e a codificação dos dados.\n",
        "\n"
      ]
    },
    {
      "cell_type": "markdown",
      "metadata": {
        "id": "OwIsdemibf3p",
        "colab_type": "text"
      },
      "source": [
        "## **Configurando o Google Lab (colab)**\n",
        "Executar o comando abaixo para permitir a execução de códigos em C/C++."
      ]
    },
    {
      "cell_type": "code",
      "metadata": {
        "id": "y_ZWVHXlY5cp",
        "colab_type": "code",
        "outputId": "da742d29-84bd-423a-f6c6-b7287085ccc3",
        "colab": {
          "base_uri": "https://localhost:8080/",
          "height": 340
        }
      },
      "source": [
        "!pip install git+git://github.com/canesche/nvcc4jupyter.git\n",
        "!git clone https://github.com/canesche/nvcc4jupyter\n",
        "%load_ext nvcc_plugin"
      ],
      "execution_count": 0,
      "outputs": [
        {
          "output_type": "stream",
          "text": [
            "Collecting git+git://github.com/canesche/nvcc4jupyter.git\n",
            "  Cloning git://github.com/canesche/nvcc4jupyter.git to /tmp/pip-req-build-i4p5wz2u\n",
            "  Running command git clone -q git://github.com/canesche/nvcc4jupyter.git /tmp/pip-req-build-i4p5wz2u\n",
            "Building wheels for collected packages: NVCCPlugin\n",
            "  Building wheel for NVCCPlugin (setup.py) ... \u001b[?25l\u001b[?25hdone\n",
            "  Created wheel for NVCCPlugin: filename=NVCCPlugin-0.0.3-cp36-none-any.whl size=7025 sha256=ab284404f9ee24764aecdf070e80f14cf3b7643c0b65f9c7d0b0a38dcceb4d48\n",
            "  Stored in directory: /tmp/pip-ephem-wheel-cache-xnegsdgs/wheels/87/ae/09/21c6e192181a0472e20ddd1d5212e2cbb113f00ebe14330d0d\n",
            "Successfully built NVCCPlugin\n",
            "Installing collected packages: NVCCPlugin\n",
            "Successfully installed NVCCPlugin-0.0.3\n",
            "Cloning into 'nvcc4jupyter'...\n",
            "remote: Enumerating objects: 113, done.\u001b[K\n",
            "remote: Counting objects: 100% (113/113), done.\u001b[K\n",
            "remote: Compressing objects: 100% (75/75), done.\u001b[K\n",
            "remote: Total 409 (delta 68), reused 79 (delta 34), pack-reused 296\u001b[K\n",
            "Receiving objects: 100% (409/409), 27.66 MiB | 22.86 MiB/s, done.\n",
            "Resolving deltas: 100% (186/186), done.\n",
            "created output directory at /content/src\n",
            "Out bin /content/result.out\n"
          ],
          "name": "stdout"
        }
      ]
    },
    {
      "cell_type": "markdown",
      "metadata": {
        "id": "bMCusnNZdDeO",
        "colab_type": "text"
      },
      "source": [
        "# Codificação de inteiros sem Sinal em Binário\n",
        "Este primeiro exercício voce irá escrever em binário seu número de matrícula e o código C irá verificar se sua conversão está correta. Para não gerar um número muito grande, iremos converter os três últimos dígitos apenas. \n",
        "Por exemplo, minha matrícula é 71269, irei converter apenas 269. **Modifique o código com o seu número de matrícula.**\n",
        "\n",
        "Referência: Material da aula Teórica (vídeo), Slides da aula Teórica, [material WEB externo](http://www.mecaweb.com.br/eletronica/content/e_binario_decimal)"
      ]
    },
    {
      "cell_type": "code",
      "metadata": {
        "id": "LgFVrU2Oc-k4",
        "colab_type": "code",
        "outputId": "ec84cb9d-1153-4234-e31f-d7441d02ce66",
        "colab": {
          "base_uri": "https://localhost:8080/",
          "height": 34
        }
      },
      "source": [
        "%%gcc\n",
        "#include <stdio.h>\n",
        "// ** MODIFIQUE AQUI sua matricula em Binario e Decimal\n",
        "int matricula_em_binario  = 0b100010; \n",
        "int matricula_em_decimal = 34; \n",
        "\n",
        "int main() \n",
        "{\n",
        "    if ( matricula_em_decimal == matricula_em_binario)\n",
        "           printf(\"Conversao correta !\");\n",
        "    else \n",
        "           printf(\"O valor não corresponde, favor refazer.\");\n",
        "    return 0;\n",
        "}\n"
      ],
      "execution_count": 55,
      "outputs": [
        {
          "output_type": "stream",
          "text": [
            "Conversao correta !\n"
          ],
          "name": "stdout"
        }
      ]
    },
    {
      "cell_type": "markdown",
      "metadata": {
        "id": "by9t2pT_mgRl",
        "colab_type": "text"
      },
      "source": [
        "# Conversão para Hexadecimal\n",
        "Refaça o exercício anterior agora escrevendo os três últimos dígitos em Hexadecimal. Além disso, você irá descobrir qual é o número binário correspondente aos seus três últimos dígitos se sua matrícula estivesse na base hexadecimal. Por exemplo, para 269 em hexadecimal temos 2*16^^2 + 6 *16 + 9 = 512+96+9 = 617 em decimal e 2=0010, 6=0110, 9=1001, portanto 0b001001101001 em binário.\n",
        "\n",
        "Referência: Material da aula Teórica (vídeo), Slides da aula Teórica, [material WEB externo](http://www.mecaweb.com.br/eletronica/content/e_hexadecimal_binario)"
      ]
    },
    {
      "cell_type": "code",
      "metadata": {
        "id": "JzV23L4WpQ1Z",
        "colab_type": "code",
        "outputId": "ca39d0f8-4609-4c1f-f8e1-dc0236d7c4fe",
        "colab": {
          "base_uri": "https://localhost:8080/",
          "height": 51
        }
      },
      "source": [
        "%%gcc\n",
        "#include <stdio.h>\n",
        "// ** Parte I - Modifique Aqui\n",
        "int matricula_decimal = 34; \n",
        "int matricula_em_hexa  = 0x022; \n",
        "\n",
        "// ** Parte II - MODIFIQUE AQUI sua matricula em Hexadecimal e binario\n",
        "int matricula_se_fosse_hexadecimal = 0x034; \n",
        "int matricula_em_binario  = 0b000000110100; \n",
        "\n",
        "int main() \n",
        "{\n",
        "       if ( matricula_em_hexa == matricula_decimal)\n",
        "           printf(\"Conversao correta decimal para hexa !\\n\");\n",
        "    else \n",
        "           printf(\"O valor não corresponde, favor refazer.\\n\");\n",
        "    if ( matricula_se_fosse_hexadecimal == matricula_em_binario)\n",
        "           printf(\"Conversao correta se fosse hexadecimal !\");\n",
        "    else \n",
        "           printf(\"O valor não corresponde, favor refazer.\");\n",
        "    return 0;\n",
        "}\n"
      ],
      "execution_count": 0,
      "outputs": [
        {
          "output_type": "stream",
          "text": [
            "Conversao correta decimal para hexa !\n",
            "Conversao correta se fosse hexadecimal !\n"
          ],
          "name": "stdout"
        }
      ]
    },
    {
      "cell_type": "markdown",
      "metadata": {
        "id": "uEOOqyEirh_5",
        "colab_type": "text"
      },
      "source": [
        "# Complemento de 2 \n",
        "Suponha que os dígitos da sua matrícula sejam \n",
        "d4d3d2d1d0. No nosso exemplo para 71269 d4=7, d3=1, d2=2, d1=6 e d0=9. Escreva o número -d2d1d0 em complemento de 2 para sua matricula. **Verifique com o código abaixo.** \n",
        "Para -269,  Lembrando que em binário 0b100001101, invertendo e somando 1 teremos 0b011110011, que tem apenas 9 dígitos binários. Completando com 23 bits \"1\" a esquerda para ficar com 32 bits teremos 0b11111111111111111111111011110011.\n",
        "\n",
        "[Material extra na Web](https://pt.wikipedia.org/wiki/Complemento_para_dois)"
      ]
    },
    {
      "cell_type": "code",
      "metadata": {
        "id": "hfwyaPi5tI3G",
        "colab_type": "code",
        "outputId": "450f07d2-0499-4b34-bf51-e5d6738fa233",
        "colab": {
          "base_uri": "https://localhost:8080/",
          "height": 51
        }
      },
      "source": [
        "%%gcc\n",
        "#include <stdio.h>\n",
        "// ** Modifique Aqui\n",
        "int matricula_neg_decimal = -34; \n",
        "int matricula_neg_complemento_2  = 0b11111111111111111111111111011110; \n",
        "\n",
        "int main() \n",
        "{\n",
        "       if ( matricula_neg_decimal == matricula_neg_complemento_2)\n",
        "           printf(\"Conversao correta  !\\n\");\n",
        "    else \n",
        "           printf(\"O valor não corresponde, favor refazer.\\n\");\n",
        "    return 0;\n",
        "}\n"
      ],
      "execution_count": 0,
      "outputs": [
        {
          "output_type": "stream",
          "text": [
            "Conversao correta  !\n",
            "\n"
          ],
          "name": "stdout"
        }
      ]
    },
    {
      "cell_type": "markdown",
      "metadata": {
        "id": "hwPHSmcttJie",
        "colab_type": "text"
      },
      "source": [
        "# Aritmética Binária\n",
        "Suponha sua matrícula d4d3d2d1d0 (ou 6 dígitos d5...). \n",
        "Converte para binário d1d0 = A, d3d2=B. Fazer A+B e verificar o resultado. \n"
      ]
    },
    {
      "cell_type": "code",
      "metadata": {
        "id": "Yw6w4IVdtPvN",
        "colab_type": "code",
        "outputId": "764bf5e8-0f49-49b1-ac93-c792834859d5",
        "colab": {
          "base_uri": "https://localhost:8080/",
          "height": 68
        }
      },
      "source": [
        "%%gcc\n",
        "#include <stdio.h>\n",
        "// ** Modifique Aqui \n",
        "int A = 20;\n",
        "int A_bin = 0b10100;\n",
        "int B = 34;\n",
        "int B_bin = 0b100010;\n",
        "int A_B = 0b110110;\n",
        "\n",
        "int main() \n",
        "{\n",
        "       if ( (A+B) == (A_bin+B_bin))\n",
        "           printf(\"Conversao correta para A e B !\\n\");\n",
        "    else \n",
        "           printf(\"Os valores de A e B não correspondem, favor refazer.\\n\");\n",
        "        if ( (A_B) == (A_bin+B_bin))\n",
        "           printf(\"Conversao correta para soma de A e B !\\n\");\n",
        "    else \n",
        "           printf(\"Os valores não correspondem, favor refazer.\\n\");\n",
        "\n",
        "    return 0;\n",
        "}\n"
      ],
      "execution_count": 0,
      "outputs": [
        {
          "output_type": "stream",
          "text": [
            "Conversao correta para A e B !\n",
            "Conversao correta para soma de A e B !\n",
            "\n"
          ],
          "name": "stdout"
        }
      ]
    },
    {
      "cell_type": "markdown",
      "metadata": {
        "id": "v0sLJY6fHDxJ",
        "colab_type": "text"
      },
      "source": [
        "# Aritmética binária em Complemento de 2\n",
        "Refaça o exercício anterior para A+(-B). Lembre-se que para números negativos, completar os 32 bits. \n"
      ]
    },
    {
      "cell_type": "code",
      "metadata": {
        "id": "2Rtt453YHWIn",
        "colab_type": "code",
        "outputId": "4c7b291a-2c39-41dc-b2b6-d86bbcf4ab68",
        "colab": {
          "base_uri": "https://localhost:8080/",
          "height": 68
        }
      },
      "source": [
        "%%gcc\n",
        "#include <stdio.h>\n",
        "// ** Modifique Aqui \n",
        "int A = 20;\n",
        "int A_bin = 0b10100;\n",
        "int menosB = -34;\n",
        "int menosB_bin = 0b11111111111111111111111111011110;\n",
        "int A_menosB = 0b11111111111111111111111111110010;\n",
        "\n",
        "int main() \n",
        "{\n",
        "       if ( (A+menosB) == (A_bin+menosB_bin))\n",
        "           printf(\"Conversao correta para A e B !\\n\");\n",
        "    else \n",
        "           printf(\"Os valores de A e B não correspondem, favor refazer.\\n\");\n",
        "        if ( (A_menosB) == (A_bin+menosB_bin))\n",
        "           printf(\"Conversao correta para soma de A e B !\\n\");\n",
        "    else \n",
        "           printf(\"Os valores não correspondem, favor refazer.\\n\");\n",
        "\n",
        "    return 0;\n",
        "}\n"
      ],
      "execution_count": 0,
      "outputs": [
        {
          "output_type": "stream",
          "text": [
            "Conversao correta para A e B !\n",
            "Conversao correta para soma de A e B !\n",
            "\n"
          ],
          "name": "stdout"
        }
      ]
    },
    {
      "cell_type": "markdown",
      "metadata": {
        "id": "zQLa2lhEtQFq",
        "colab_type": "text"
      },
      "source": [
        "# Código ASCII\n",
        "Escreva em Decimal o código ASCII correspondente aos seus dígitos de matrícula, lembrando que o caracter '0' tem código 48."
      ]
    },
    {
      "cell_type": "code",
      "metadata": {
        "id": "QWGCa1EROATh",
        "colab_type": "code",
        "outputId": "a7868f7b-e1a8-4ffe-ad3a-ae79d9ee420d",
        "colab": {
          "base_uri": "https://localhost:8080/",
          "height": 51
        }
      },
      "source": [
        "%%gcc\n",
        "#include <stdio.h>\n",
        "// ** Modifique Aqui \n",
        "char d5='1',d4='0',d3='2',d2='0',d1='3',d0='4';\n",
        "char n5=49,n4=48,n3=50,n2=48,n1=51,n0=52;\n",
        "\n",
        "\n",
        "int main() \n",
        "{\n",
        "       if ( (d5==n5)&&(d4==n4)&&(d3==n3)&&(d2==n2)&&(d1==n1)&&(d0==n0))\n",
        "           printf(\"Conversao correta para ASCII !\\n\");\n",
        "    else \n",
        "           printf(\"Favor refazer.\\n\");\n",
        "    return 0;\n",
        "}\n"
      ],
      "execution_count": 0,
      "outputs": [
        {
          "output_type": "stream",
          "text": [
            "Conversao correta para ASCII !\n",
            "\n"
          ],
          "name": "stdout"
        }
      ]
    },
    {
      "cell_type": "code",
      "metadata": {
        "id": "l2W89isXJK9e",
        "colab_type": "code",
        "outputId": "9bd9006f-6982-415f-e8ec-067f8b1d039f",
        "colab": {
          "base_uri": "https://localhost:8080/",
          "height": 34
        }
      },
      "source": [
        "%%cpp\n",
        "#include <iostream>\n",
        "\n",
        "using namespace std;\n",
        "\n",
        "int main() {\n",
        "    cout << \"Obrigado!\";\n",
        "  return 0;\n",
        "}"
      ],
      "execution_count": 0,
      "outputs": [
        {
          "output_type": "stream",
          "text": [
            "Obrigado!\n"
          ],
          "name": "stdout"
        }
      ]
    }
  ]
}